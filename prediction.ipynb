{
 "cells": [
  {
   "cell_type": "code",
   "execution_count": 1,
   "id": "a5b07aa9-4653-48ee-a76a-2fc3586d24f2",
   "metadata": {},
   "outputs": [],
   "source": [
    "from ultralytics import YOLO"
   ]
  },
  {
   "cell_type": "code",
   "execution_count": 3,
   "id": "c1aa6e34-455b-4fcb-bc4f-a7189a0710d9",
   "metadata": {},
   "outputs": [
    {
     "name": "stdout",
     "output_type": "stream",
     "text": [
      "\n",
      "image 1/1 /Users/niklas/Code/License-Plate-Recognition/car.jpg: 224x320 1 License_Plate, 46.2ms\n",
      "Speed: 1.1ms preprocess, 46.2ms inference, 0.6ms postprocess per image at shape (1, 3, 224, 320)\n",
      "Results saved to \u001b[1m/Users/niklas/Code/yolov5/runs/detect/predict4\u001b[0m\n"
     ]
    }
   ],
   "source": [
    "model = YOLO(\"yolo11n_trained.pt\")\n",
    "# model.predict(\"car.jpg\", save=True, imgsz=320, conf=0.5)"
   ]
  },
  {
   "cell_type": "code",
   "execution_count": null,
   "id": "2551e096-592c-4981-8a0d-e2f85ceeae4f",
   "metadata": {},
   "outputs": [],
   "source": []
  }
 ],
 "metadata": {
  "kernelspec": {
   "display_name": "Python 3 (ipykernel)",
   "language": "python",
   "name": "python3"
  },
  "language_info": {
   "codemirror_mode": {
    "name": "ipython",
    "version": 3
   },
   "file_extension": ".py",
   "mimetype": "text/x-python",
   "name": "python",
   "nbconvert_exporter": "python",
   "pygments_lexer": "ipython3",
   "version": "3.11.9"
  }
 },
 "nbformat": 4,
 "nbformat_minor": 5
}
